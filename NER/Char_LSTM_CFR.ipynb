{
 "cells": [
  {
   "cell_type": "markdown",
   "metadata": {},
   "source": [
    "<img src=\"../data/ner_tags.png\">"
   ]
  },
  {
   "cell_type": "code",
   "execution_count": 1,
   "metadata": {},
   "outputs": [
    {
     "name": "stderr",
     "output_type": "stream",
     "text": [
      "Using TensorFlow backend.\n"
     ]
    }
   ],
   "source": [
    "import tensorflow as tf\n",
    "import keras\n",
    "import pandas as pd\n",
    "import numpy as np\n",
    "import matplotlib.pyplot as plt\n",
    "from nltk import word_tokenize\n",
    "from keras.utils import to_categorical\n",
    "from sklearn.model_selection import train_test_split\n",
    "from keras.preprocessing.sequence import pad_sequences\n",
    "from sklearn_crfsuite.metrics import flat_classification_report"
   ]
  },
  {
   "cell_type": "code",
   "execution_count": 2,
   "metadata": {},
   "outputs": [
    {
     "name": "stdout",
     "output_type": "stream",
     "text": [
      "Number of sentences:  47959\n",
      "Number of words in the dataset:  35178\n",
      "Number of Labels:  17\n",
      "['B-eve', 'B-geo', 'B-org', 'I-geo', 'B-art', 'I-tim', 'I-eve', 'B-nat', 'I-per', 'O', 'I-nat', 'I-gpe', 'B-per', 'I-art', 'I-org', 'B-gpe', 'B-tim']\n"
     ]
    },
    {
     "data": {
      "text/html": [
       "<div>\n",
       "<style scoped>\n",
       "    .dataframe tbody tr th:only-of-type {\n",
       "        vertical-align: middle;\n",
       "    }\n",
       "\n",
       "    .dataframe tbody tr th {\n",
       "        vertical-align: top;\n",
       "    }\n",
       "\n",
       "    .dataframe thead th {\n",
       "        text-align: right;\n",
       "    }\n",
       "</style>\n",
       "<table border=\"1\" class=\"dataframe\">\n",
       "  <thead>\n",
       "    <tr style=\"text-align: right;\">\n",
       "      <th></th>\n",
       "      <th>Sentence #</th>\n",
       "      <th>Word</th>\n",
       "      <th>POS</th>\n",
       "      <th>Tag</th>\n",
       "    </tr>\n",
       "  </thead>\n",
       "  <tbody>\n",
       "    <tr>\n",
       "      <th>0</th>\n",
       "      <td>Sentence: 1</td>\n",
       "      <td>Thousands</td>\n",
       "      <td>NNS</td>\n",
       "      <td>O</td>\n",
       "    </tr>\n",
       "    <tr>\n",
       "      <th>1</th>\n",
       "      <td>Sentence: 1</td>\n",
       "      <td>of</td>\n",
       "      <td>IN</td>\n",
       "      <td>O</td>\n",
       "    </tr>\n",
       "    <tr>\n",
       "      <th>2</th>\n",
       "      <td>Sentence: 1</td>\n",
       "      <td>demonstrators</td>\n",
       "      <td>NNS</td>\n",
       "      <td>O</td>\n",
       "    </tr>\n",
       "    <tr>\n",
       "      <th>3</th>\n",
       "      <td>Sentence: 1</td>\n",
       "      <td>have</td>\n",
       "      <td>VBP</td>\n",
       "      <td>O</td>\n",
       "    </tr>\n",
       "    <tr>\n",
       "      <th>4</th>\n",
       "      <td>Sentence: 1</td>\n",
       "      <td>marched</td>\n",
       "      <td>VBN</td>\n",
       "      <td>O</td>\n",
       "    </tr>\n",
       "    <tr>\n",
       "      <th>5</th>\n",
       "      <td>Sentence: 1</td>\n",
       "      <td>through</td>\n",
       "      <td>IN</td>\n",
       "      <td>O</td>\n",
       "    </tr>\n",
       "    <tr>\n",
       "      <th>6</th>\n",
       "      <td>Sentence: 1</td>\n",
       "      <td>London</td>\n",
       "      <td>NNP</td>\n",
       "      <td>B-geo</td>\n",
       "    </tr>\n",
       "    <tr>\n",
       "      <th>7</th>\n",
       "      <td>Sentence: 1</td>\n",
       "      <td>to</td>\n",
       "      <td>TO</td>\n",
       "      <td>O</td>\n",
       "    </tr>\n",
       "    <tr>\n",
       "      <th>8</th>\n",
       "      <td>Sentence: 1</td>\n",
       "      <td>protest</td>\n",
       "      <td>VB</td>\n",
       "      <td>O</td>\n",
       "    </tr>\n",
       "    <tr>\n",
       "      <th>9</th>\n",
       "      <td>Sentence: 1</td>\n",
       "      <td>the</td>\n",
       "      <td>DT</td>\n",
       "      <td>O</td>\n",
       "    </tr>\n",
       "  </tbody>\n",
       "</table>\n",
       "</div>"
      ],
      "text/plain": [
       "    Sentence #           Word  POS    Tag\n",
       "0  Sentence: 1      Thousands  NNS      O\n",
       "1  Sentence: 1             of   IN      O\n",
       "2  Sentence: 1  demonstrators  NNS      O\n",
       "3  Sentence: 1           have  VBP      O\n",
       "4  Sentence: 1        marched  VBN      O\n",
       "5  Sentence: 1        through   IN      O\n",
       "6  Sentence: 1         London  NNP  B-geo\n",
       "7  Sentence: 1             to   TO      O\n",
       "8  Sentence: 1        protest   VB      O\n",
       "9  Sentence: 1            the   DT      O"
      ]
     },
     "execution_count": 2,
     "metadata": {},
     "output_type": "execute_result"
    }
   ],
   "source": [
    "data = pd.read_csv(\"../data/ner_dataset.csv\", encoding=\"latin1\")\n",
    "data = data.fillna(method=\"ffill\")\n",
    "\n",
    "print(\"Number of sentences: \", len(data.groupby(['Sentence #'])))\n",
    "\n",
    "words = list(set(data[\"Word\"].values))\n",
    "n_words = len(words)\n",
    "print(\"Number of words in the dataset: \", n_words)\n",
    "\n",
    "tags = list(set(data[\"Tag\"].values))\n",
    "n_tags = len(tags)\n",
    "print(\"Number of Labels: \", n_tags)\n",
    "print(tags)\n",
    "\n",
    "data.head(10)"
   ]
  },
  {
   "cell_type": "code",
   "execution_count": 3,
   "metadata": {},
   "outputs": [],
   "source": [
    "class SentenceGetter(object):\n",
    "    \"\"\"\n",
    "    Class to Get the sentence in this format:\n",
    "    [(Token_1, Part_of_Speech_1, Tag_1), ..., (Token_n, Part_of_Speech_1, Tag_1)]\n",
    "    \"\"\"\n",
    "    \n",
    "    def __init__(self, data):\n",
    "        \"\"\"\n",
    "        data: pandas.DataFrame which contains the above dataset\n",
    "        \"\"\"\n",
    "        self.data = data\n",
    "        self.empty = False\n",
    "        agg_func = lambda s: [(w, p, t) for w, p, t in zip(s[\"Word\"].values.tolist(),\n",
    "                                                           s[\"POS\"].values.tolist(),\n",
    "                                                           s[\"Tag\"].values.tolist())]\n",
    "        self.grouped = self.data.groupby(\"Sentence #\").apply(agg_func)\n",
    "        self.sentences = [s for s in self.grouped]"
   ]
  },
  {
   "cell_type": "code",
   "execution_count": 4,
   "metadata": {},
   "outputs": [
    {
     "name": "stdout",
     "output_type": "stream",
     "text": [
      "Raw Sample:  Thousands of demonstrators have marched through London to protest the war in Iraq and demand the withdrawal of British troops from that country .\n",
      "Raw Label:  O O O O O O B-geo O O O O O B-geo O O O O O B-gpe O O O O O\n"
     ]
    }
   ],
   "source": [
    "getter = SentenceGetter(data)\n",
    "sentences = getter.sentences\n",
    "\n",
    "print('Raw Sample: ', ' '.join([w[0] for w in sentences[0]]))\n",
    "print('Raw Label: ', ' '.join([w[2] for w in sentences[0]]))"
   ]
  },
  {
   "cell_type": "code",
   "execution_count": 5,
   "metadata": {},
   "outputs": [
    {
     "data": {
      "image/png": "[encoded data removed]",
      "text/plain": [
       "<Figure size 432x288 with 1 Axes>"
      ]
     },
     "metadata": {
      "needs_background": "light"
     },
     "output_type": "display_data"
    }
   ],
   "source": [
    "# Plot sentence by length\n",
    "plt.hist([len(s) for s in sentences], bins=50)\n",
    "plt.title('Token per sentence')\n",
    "plt.xlabel('Len (number of token)')\n",
    "plt.ylabel('# samples')\n",
    "plt.show()"
   ]
  },
  {
   "cell_type": "code",
   "execution_count": 6,
   "metadata": {},
   "outputs": [],
   "source": [
    "# Vocabulary Key:word -> Value:token_index\n",
    "# The first 2 entries are reserved for PAD and UNK\n",
    "word2idx = {w: i + 2 for i, w in enumerate(words)}\n",
    "word2idx[\"UNK\"] = 1 # Unknown words\n",
    "word2idx[\"PAD\"] = 0 # Padding\n",
    "\n",
    "# Vocabulary Key:token_index -> Value:word\n",
    "idx2word = {i: w for w, i in word2idx.items()}"
   ]
  },
  {
   "cell_type": "code",
   "execution_count": 7,
   "metadata": {},
   "outputs": [],
   "source": [
    "# Vocabulary Key:Label/Tag -> Value:tag_index\n",
    "# The first entry is reserved for PAD\n",
    "tag2idx = {t: i+1 for i, t in enumerate(tags)}\n",
    "tag2idx[\"PAD\"] = 0\n",
    "\n",
    "# Vocabulary Key:tag_index -> Value:Label/Tag\n",
    "idx2tag = {i: w for w, i in tag2idx.items()}"
   ]
  },
  {
   "cell_type": "code",
   "execution_count": 8,
   "metadata": {},
   "outputs": [],
   "source": [
    "# Max length of review (in words)\n",
    "MAX_LEN = 60\n",
    "\n",
    "# Convert each sentence from list of Token to list of word_index\n",
    "X_word = [[word2idx[w[0]] for w in s] for s in sentences]\n",
    "# Padding each sentence to have the same lenght\n",
    "X_word = pad_sequences(maxlen=MAX_LEN, sequences=X_word, padding=\"post\", value=word2idx[\"PAD\"])"
   ]
  },
  {
   "cell_type": "code",
   "execution_count": 9,
   "metadata": {},
   "outputs": [
    {
     "name": "stdout",
     "output_type": "stream",
     "text": [
      "98\n"
     ]
    }
   ],
   "source": [
    "chars = set([w_i for w in words for w_i in w])\n",
    "n_chars = len(chars)\n",
    "print(n_chars)"
   ]
  },
  {
   "cell_type": "code",
   "execution_count": 10,
   "metadata": {},
   "outputs": [],
   "source": [
    "char2idx = {c: i + 2 for i, c in enumerate(chars)}\n",
    "char2idx[\"UNK\"] = 1\n",
    "char2idx[\"PAD\"] = 0"
   ]
  },
  {
   "cell_type": "code",
   "execution_count": 11,
   "metadata": {},
   "outputs": [],
   "source": [
    "def generate_char_array(input_sent, raw=False):\n",
    "    sent_seq = []\n",
    "    for i in range(MAX_LEN):\n",
    "        word_seq = []\n",
    "        for j in range(MAX_LEN_CHAR):\n",
    "            try:\n",
    "                if raw:\n",
    "                    word_seq.append(char2idx.get(input_sent[i][j]))\n",
    "                else:\n",
    "                    word_seq.append(char2idx.get(input_sent[i][0][j]))\n",
    "            except:\n",
    "                word_seq.append(char2idx.get(\"PAD\"))\n",
    "        sent_seq.append(word_seq)\n",
    "    return np.array(sent_seq)"
   ]
  },
  {
   "cell_type": "code",
   "execution_count": 12,
   "metadata": {},
   "outputs": [],
   "source": [
    "MAX_LEN_CHAR = 10\n",
    "\n",
    "X_char = []\n",
    "for sentence in sentences:\n",
    "    char_array = generate_char_array(sentence)\n",
    "    X_char.append(char_array)\n",
    "    \n",
    "X_char = np.array(X_char)"
   ]
  },
  {
   "cell_type": "code",
   "execution_count": 13,
   "metadata": {},
   "outputs": [],
   "source": [
    "# Convert Tag/Label to tag_index\n",
    "y = [[tag2idx[w[2]] for w in s] for s in sentences]\n",
    "# Padding each sentence to have the same lenght\n",
    "y = pad_sequences(maxlen=MAX_LEN, sequences=y, padding=\"post\", value=tag2idx[\"PAD\"])\n",
    "\n",
    "# One-Hot encode\n",
    "y = np.array([to_categorical(i, num_classes=n_tags+1) for i in y])  # n_tags+1(PAD)"
   ]
  },
  {
   "cell_type": "code",
   "execution_count": 14,
   "metadata": {},
   "outputs": [
    {
     "data": {
      "text/plain": [
       "((43163, 60), (43163, 60, 10), (43163, 60, 18))"
      ]
     },
     "execution_count": 14,
     "metadata": {},
     "output_type": "execute_result"
    }
   ],
   "source": [
    "# Train-test split\n",
    "X_word_tr, X_word_te, y_tr, y_te = train_test_split(X_word, y, test_size=0.1)\n",
    "X_char_tr, X_char_te, _, _ = train_test_split(X_char, y, test_size=0.1)\n",
    "\n",
    "X_word_tr.shape, X_char_tr.shape, np.array(y_tr).shape"
   ]
  },
  {
   "cell_type": "code",
   "execution_count": 15,
   "metadata": {},
   "outputs": [
    {
     "name": "stdout",
     "output_type": "stream",
     "text": [
      "Model: \"model_1\"\n",
      "__________________________________________________________________________________________________\n",
      "Layer (type)                    Output Shape         Param #     Connected to                     \n",
      "==================================================================================================\n",
      "input_1 (InputLayer)            (None, 60, 10)       0                                            \n",
      "__________________________________________________________________________________________________\n",
      "input_2 (InputLayer)            (None, 60)           0                                            \n",
      "__________________________________________________________________________________________________\n",
      "time_distributed_1 (TimeDistrib (None, 60, 10, 10)   1000        input_1[0][0]                    \n",
      "__________________________________________________________________________________________________\n",
      "embedding_2 (Embedding)         (None, 60, 50)       1759000     input_2[0][0]                    \n",
      "__________________________________________________________________________________________________\n",
      "time_distributed_2 (TimeDistrib (None, 60, 20)       2480        time_distributed_1[0][0]         \n",
      "__________________________________________________________________________________________________\n",
      "concatenate_1 (Concatenate)     (None, 60, 70)       0           embedding_2[0][0]                \n",
      "                                                                 time_distributed_2[0][0]         \n",
      "__________________________________________________________________________________________________\n",
      "bidirectional_1 (Bidirectional) (None, 60, 128)      69120       concatenate_1[0][0]              \n",
      "__________________________________________________________________________________________________\n",
      "time_distributed_3 (TimeDistrib (None, 60, 50)       6450        bidirectional_1[0][0]            \n",
      "__________________________________________________________________________________________________\n",
      "crf_1 (CRF)                     (None, 60, 18)       1278        time_distributed_3[0][0]         \n",
      "==================================================================================================\n",
      "Total params: 1,839,328\n",
      "Trainable params: 1,839,328\n",
      "Non-trainable params: 0\n",
      "__________________________________________________________________________________________________\n"
     ]
    }
   ],
   "source": [
    "from keras.models import Model, Input\n",
    "from keras.layers import LSTM, Embedding, Dense, TimeDistributed, Dropout, Bidirectional, concatenate\n",
    "from keras_contrib.layers import CRF\n",
    "from keras_contrib.losses import crf_loss\n",
    "from keras_contrib.metrics import crf_accuracy\n",
    "\n",
    "EPOCHS = 10\n",
    "BATCH_SIZE = 256\n",
    "WORD_EMBEDDING_DIM = 50\n",
    "CHAR_EMBEDDIBG_DIM = 10\n",
    "\n",
    "# input and embeddings for characters\n",
    "char_in = Input(shape=(MAX_LEN, MAX_LEN_CHAR,))\n",
    "emb_char = TimeDistributed(Embedding(input_dim=n_chars+2,\n",
    "                                     output_dim=CHAR_EMBEDDIBG_DIM,\n",
    "                                     input_length=MAX_LEN_CHAR))(char_in)\n",
    "\n",
    "# character LSTM to get word encodings by characters\n",
    "char_enc = TimeDistributed(LSTM(units=20, \n",
    "                                return_sequences=False,\n",
    "                                recurrent_dropout=0.2))(emb_char)\n",
    "\n",
    "# input and embedding for words\n",
    "word_in = Input(shape=(MAX_LEN,))\n",
    "emb_word = Embedding(input_dim=n_words+2, \n",
    "                     output_dim=WORD_EMBEDDING_DIM, \n",
    "                     input_length=MAX_LEN)(word_in)\n",
    "\n",
    "# combine word and char embeddings\n",
    "x = concatenate([emb_word, char_enc])\n",
    "\n",
    "# Main layers\n",
    "main_lstm = Bidirectional(LSTM(units=64, \n",
    "                               return_sequences=True,\n",
    "                               recurrent_dropout=0.2))(x)\n",
    "fc = TimeDistributed(Dense(50, activation=\"relu\"))(main_lstm)\n",
    "out = CRF((n_tags + 1))(fc)\n",
    "\n",
    "\n",
    "model = Model([word_in, char_in], out)\n",
    "model.compile(optimizer=\"adam\", loss=crf_loss, metrics=[crf_accuracy])\n",
    "model.summary()"
   ]
  },
  {
   "cell_type": "code",
   "execution_count": 16,
   "metadata": {},
   "outputs": [
    {
     "name": "stderr",
     "output_type": "stream",
     "text": [
      "/home/sun/miniconda2/envs/py37/lib/python3.7/site-packages/tensorflow_core/python/framework/indexed_slices.py:424: UserWarning: Converting sparse IndexedSlices to a dense Tensor of unknown shape. This may consume a large amount of memory.\n",
      "  \"Converting sparse IndexedSlices to a dense Tensor of unknown shape. \"\n"
     ]
    },
    {
     "name": "stdout",
     "output_type": "stream",
     "text": [
      "Train on 38846 samples, validate on 4317 samples\n",
      "Epoch 1/10\n",
      " - 18s - loss: 0.6120 - crf_accuracy: 0.8428 - val_loss: 0.2522 - val_crf_accuracy: 0.9458\n",
      "Epoch 2/10\n",
      " - 16s - loss: 0.1888 - crf_accuracy: 0.9485 - val_loss: 0.1193 - val_crf_accuracy: 0.9621\n",
      "Epoch 3/10\n",
      " - 16s - loss: 0.1010 - crf_accuracy: 0.9675 - val_loss: 0.0790 - val_crf_accuracy: 0.9762\n",
      "Epoch 4/10\n",
      " - 16s - loss: 0.0586 - crf_accuracy: 0.9821 - val_loss: 0.0483 - val_crf_accuracy: 0.9849\n",
      "Epoch 5/10\n",
      " - 16s - loss: 0.0367 - crf_accuracy: 0.9879 - val_loss: 0.0391 - val_crf_accuracy: 0.9866\n",
      "Epoch 6/10\n",
      " - 17s - loss: 0.0280 - crf_accuracy: 0.9895 - val_loss: 0.0354 - val_crf_accuracy: 0.9874\n",
      "Epoch 7/10\n",
      " - 16s - loss: 0.0230 - crf_accuracy: 0.9905 - val_loss: 0.0325 - val_crf_accuracy: 0.9878\n",
      "Epoch 8/10\n",
      " - 16s - loss: 0.0191 - crf_accuracy: 0.9914 - val_loss: 0.0311 - val_crf_accuracy: 0.9880\n",
      "Epoch 9/10\n",
      " - 17s - loss: 0.0160 - crf_accuracy: 0.9919 - val_loss: 0.0293 - val_crf_accuracy: 0.9881\n",
      "Epoch 10/10\n",
      " - 17s - loss: 0.0131 - crf_accuracy: 0.9924 - val_loss: 0.0295 - val_crf_accuracy: 0.9880\n"
     ]
    }
   ],
   "source": [
    "history = model.fit([X_word_tr, X_char_tr], y_tr, batch_size=BATCH_SIZE, epochs=EPOCHS, validation_split=0.1, verbose=2)\n",
    "stats = pd.DataFrame(history.history)"
   ]
  },
  {
   "cell_type": "code",
   "execution_count": 17,
   "metadata": {},
   "outputs": [
    {
     "data": {
      "image/png": "[encoded data removed]",
      "text/plain": [
       "<Figure size 432x288 with 1 Axes>"
      ]
     },
     "metadata": {},
     "output_type": "display_data"
    }
   ],
   "source": [
    "plt.style.use(\"ggplot\")\n",
    "plt.plot(stats[\"val_crf_accuracy\"])\n",
    "plt.plot(stats[\"crf_accuracy\"])\n",
    "plt.show()"
   ]
  },
  {
   "cell_type": "code",
   "execution_count": 18,
   "metadata": {},
   "outputs": [],
   "source": [
    "# Eval on test data\n",
    "pred_cat = model.predict([X_word_te, X_char_te])\n",
    "pred = np.argmax(pred_cat, axis=-1)\n",
    "y_te_true = np.argmax(y_te, -1)"
   ]
  },
  {
   "cell_type": "code",
   "execution_count": 19,
   "metadata": {},
   "outputs": [
    {
     "name": "stderr",
     "output_type": "stream",
     "text": [
      "/home/sun/miniconda2/envs/py37/lib/python3.7/site-packages/sklearn/metrics/_classification.py:1272: UndefinedMetricWarning: Precision and F-score are ill-defined and being set to 0.0 in labels with no predicted samples. Use `zero_division` parameter to control this behavior.\n",
      "  _warn_prf(average, modifier, msg_start, len(result))\n"
     ]
    },
    {
     "name": "stdout",
     "output_type": "stream",
     "text": [
      "              precision    recall  f1-score   support\n",
      "\n",
      "       B-art       0.00      0.00      0.00        39\n",
      "       B-eve       0.00      0.00      0.00        22\n",
      "       B-geo       0.86      0.88      0.87      3780\n",
      "       B-gpe       0.96      0.94      0.95      1551\n",
      "       B-nat       0.00      0.00      0.00        27\n",
      "       B-org       0.78      0.69      0.73      2005\n",
      "       B-per       0.83      0.83      0.83      1682\n",
      "       B-tim       0.91      0.88      0.89      2016\n",
      "       I-art       0.00      0.00      0.00        26\n",
      "       I-eve       0.00      0.00      0.00         9\n",
      "       I-geo       0.80      0.71      0.75       684\n",
      "       I-gpe       1.00      0.63      0.77        19\n",
      "       I-nat       0.00      0.00      0.00         5\n",
      "       I-org       0.85      0.70      0.77      1682\n",
      "       I-per       0.89      0.81      0.85      1762\n",
      "       I-tim       0.82      0.73      0.77       616\n",
      "           O       0.98      0.99      0.99     88713\n",
      "         PAD       1.00      1.00      1.00    183122\n",
      "\n",
      "    accuracy                           0.99    287760\n",
      "   macro avg       0.59      0.54      0.57    287760\n",
      "weighted avg       0.99      0.99      0.99    287760\n",
      "\n"
     ]
    }
   ],
   "source": [
    "# Convert the index to tag\n",
    "pred_tag = [[idx2tag[i] for i in row] for row in pred]\n",
    "y_te_true_tag = [[idx2tag[i] for i in row] for row in y_te_true] \n",
    "\n",
    "report = flat_classification_report(y_pred=pred_tag, y_true=y_te_true_tag)\n",
    "print(report)"
   ]
  },
  {
   "cell_type": "code",
   "execution_count": 20,
   "metadata": {},
   "outputs": [
    {
     "name": "stdout",
     "output_type": "stream",
     "text": [
      "WORD           TRUE   PRED\n",
      "Helicopter     O      O\n",
      "gunships       O      O\n",
      "Saturday       B-tim  B-tim\n",
      "pounded        O      O\n",
      "militant       O      O\n",
      "hideouts       O      O\n",
      "in             O      O\n",
      "the            O      O\n",
      "Orakzai        B-geo  B-geo\n",
      "tribal         O      O\n",
      "region         O      O\n",
      ",              O      O\n",
      "where          O      O\n",
      "many           O      O\n",
      "Taliban        B-org  B-org\n",
      "militants      O      O\n",
      "are            O      O\n",
      "believed       O      O\n",
      "to             O      O\n",
      "have           O      O\n",
      "fled           O      O\n",
      "to             O      O\n",
      "avoid          O      O\n",
      "an             O      O\n",
      "earlier        O      O\n",
      "military       O      O\n",
      "offensive      O      O\n",
      "in             O      O\n",
      "nearby         O      O\n",
      "South          B-geo  B-geo\n",
      "Waziristan     I-geo  I-geo\n",
      ".              O      O\n"
     ]
    }
   ],
   "source": [
    "def check_sample(ner_model, sample_x, sample_y):\n",
    "    raw_pred = ner_model.predict(sample_x)\n",
    "    tag_pred = np.argmax(raw_pred, axis=-1)[0]\n",
    "    ground_truth = np.argmax(sample_y, axis=-1)\n",
    "    \n",
    "    print(\"{:15}{:7}{}\".format(\"WORD\", \"TRUE\", \"PRED\"))\n",
    "    for w, t, p in zip(sample_x[0][0], ground_truth, tag_pred):\n",
    "        if w != 0:\n",
    "            print(\"{:15}{:7}{}\".format(idx2word[w], idx2tag[t], idx2tag[p]))\n",
    "\n",
    "index = 2\n",
    "check_sample(model, [[X_word[index]], [X_char[index]]], y[index])"
   ]
  },
  {
   "cell_type": "code",
   "execution_count": 21,
   "metadata": {},
   "outputs": [
    {
     "name": "stdout",
     "output_type": "stream",
     "text": [
      "Input sentence: Jim visited Beijing in 2016.\n",
      "\n",
      "WORD           PRED\n",
      "Jim            B-per\n",
      "visited        O\n",
      "Beijing        B-geo\n",
      "in             O\n",
      "2016           B-tim\n",
      ".              O\n"
     ]
    }
   ],
   "source": [
    "def predict_sentence(ner_model):\n",
    "    input_sent = input(\"Input sentence: \")\n",
    "    sequence = [word2idx.get(w, 1) for w in word_tokenize(input_sent)]\n",
    "    processed_sent = pad_sequences(sequences=[sequence],\n",
    "                                   padding=\"post\", \n",
    "                                   value=0, \n",
    "                                   maxlen=MAX_LEN)\n",
    "    char_array = generate_char_array(sequence, raw=True)\n",
    "\n",
    "    raw_pred = ner_model.predict([[processed_sent.squeeze()], [char_array]])\n",
    "    tag_pred = np.argmax(raw_pred, axis=-1)[0]\n",
    "    \n",
    "    print(\"\\n{:15}{}\".format(\"WORD\", \"PRED\"))\n",
    "    for w, p in zip(sequence, tag_pred):\n",
    "        if w != 0:\n",
    "            print(\"{:15}{}\".format(idx2word[w], idx2tag[p]))\n",
    "\n",
    "predict_sentence(model)"
   ]
  },
  {
   "cell_type": "code",
   "execution_count": null,
   "metadata": {},
   "outputs": [],
   "source": []
  }
 ],
 "metadata": {
  "kernelspec": {
   "display_name": "Python 3",
   "language": "python",
   "name": "python3"
  },
  "language_info": {
   "codemirror_mode": {
    "name": "ipython",
    "version": 3
   },
   "file_extension": ".py",
   "mimetype": "text/x-python",
   "name": "python",
   "nbconvert_exporter": "python",
   "pygments_lexer": "ipython3",
   "version": "3.7.7"
  }
 },
 "nbformat": 4,
 "nbformat_minor": 4
}
